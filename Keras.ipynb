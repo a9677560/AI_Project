{
 "cells": [
  {
   "cell_type": "markdown",
   "metadata": {},
   "source": [
    "**目錄**<a id='toc0_'></a>    \n",
    "- [多層神經網路的建立與調教](#toc1_)    \n",
    "  - [設置 pip 虛擬環境與執行](#toc1_1_)    \n",
    "  - [建立辨識手寫數字的多層神經網路](#toc1_2_)    \n",
    "    - [載入 Keras](#toc1_2_1_)    \n",
    "    - [載入資料集並做資料預處理](#toc1_2_2_)    \n",
    "\n",
    "<!-- vscode-jupyter-toc-config\n",
    "\tnumbering=false\n",
    "\tanchor=true\n",
    "\tflat=false\n",
    "\tminLevel=1\n",
    "\tmaxLevel=6\n",
    "\t/vscode-jupyter-toc-config -->\n",
    "<!-- THIS CELL WILL BE REPLACED ON TOC UPDATE. DO NOT WRITE YOUR TEXT IN THIS CELL -->"
   ]
  },
  {
   "cell_type": "markdown",
   "metadata": {},
   "source": [
    "# <a id='toc1_'></a>[多層神經網路的建立與調教](#toc0_)"
   ]
  },
  {
   "cell_type": "markdown",
   "metadata": {},
   "source": [
    "## <a id='toc1_1_'></a>[設置 pip 虛擬環境與執行](#toc0_)\n",
    "\n",
    "使用 \n",
    "```\n",
    "python3 -m venv ai_project\n",
    "```\n",
    "建立 ai_project 的虛擬環境\n",
    "\n",
    "欲執行虛擬環境，則輸入以下指令：\n",
    "```\n",
    "source ai_project/bin/activate\n",
    "```"
   ]
  },
  {
   "cell_type": "markdown",
   "metadata": {},
   "source": [
    "## <a id='toc1_2_'></a>[建立辨識手寫數字的多層神經網路](#toc0_)"
   ]
  },
  {
   "cell_type": "markdown",
   "metadata": {},
   "source": [
    "### <a id='toc1_2_1_'></a>[載入 Keras](#toc0_)"
   ]
  },
  {
   "cell_type": "code",
   "execution_count": 13,
   "metadata": {},
   "outputs": [],
   "source": [
    "import tensorflow as tf\n",
    "from tensorflow import keras\n",
    "# 用作資料預處理\n",
    "from keras.utils import to_categorical\n",
    "import numpy as np\n",
    "import logging\n",
    "\n",
    "tf.get_logger().setLevel(logging.ERROR)\n",
    "tf.random.set_seed(7)\n",
    "\n",
    "# 設定訓練的總週期數\n",
    "EPOCHS = 20\n",
    "# 設定每批次訓練的樣本數\n",
    "BATCH_SIZE = 1"
   ]
  },
  {
   "cell_type": "markdown",
   "metadata": {},
   "source": [
    "### <a id='toc1_2_2_'></a>[載入資料集並做資料預處理](#toc0_)\n",
    "\n",
    "- 使用 **MNIST** 這個經典的手寫數字圖片資料集來建立並訓練神經網路\n",
    "- 對兩個正解使用 **one-hot** 編碼，例如 train_images[0] = 5，表示第 0 張數字圖片是 5。經過 one-hot 編碼後，5 會變成 [0, 0, 0, 0, 0, 1, 0, 0, 0, 0]，代碼 index = 5 的機率為 1，其餘為 0。"
   ]
  },
  {
   "cell_type": "code",
   "execution_count": 14,
   "metadata": {},
   "outputs": [],
   "source": [
    "mnist = keras.datasets.mnist\n",
    "(train_images, train_labels), (test_images, test_labels) = mnist.load_data()\n",
    "\n",
    "# 標準化 (standardization)\n",
    "mean = np.mean(train_images)\n",
    "stddev = np.std(train_images)\n",
    "train_images = (train_images - mean) / stddev\n",
    "test_images = (test_images - mean) / stddev\n",
    "\n",
    "# 替標籤 (正姐) 做 one-hot 編碼\n",
    "train_labels = to_categorical(train_labels, num_classes=10)\n",
    "test_labels = to_categorical(test_labels, num_classes=10)\n"
   ]
  },
  {
   "cell_type": "markdown",
   "metadata": {},
   "source": [
    "### 建構神經網路\n",
    "\n",
    "- 使用**初始化物件 (initializer)** 來初始化權重\n",
    "- 使用**均勻隨機分佈 (Random Uniform)** 將權重初始化成 -0.1 ~ 0.1 之間的值\n",
    "- 用 `keras.Sequential()` 建立一個空的 model，之後就可以堆疊神經層。"
   ]
  },
  {
   "cell_type": "code",
   "execution_count": 15,
   "metadata": {},
   "outputs": [
    {
     "name": "stderr",
     "output_type": "stream",
     "text": [
      "/Users/yusung/Desktop/Computer_Science/AI_Project/ai_project/lib/python3.11/site-packages/keras/src/layers/reshaping/flatten.py:37: UserWarning: Do not pass an `input_shape`/`input_dim` argument to a layer. When using Sequential models, prefer using an `Input(shape)` object as the first layer in the model instead.\n",
      "  super().__init__(**kwargs)\n"
     ]
    }
   ],
   "source": [
    "initializer = keras.initializers.RandomUniform(minval=-0.1, maxval=0.1)\n",
    "\n",
    "model = keras.Sequential([\n",
    "    keras.layers.Flatten(input_shape = (28, 28)),\n",
    "    keras.layers.Dense(25, activation='tanh', \n",
    "                 kernel_initializer=initializer,\n",
    "                 bias_initializer='zeros'),\n",
    "    keras.layers.Dense(10, activation='sigmoid',\n",
    "                 kernel_initializer=initializer,\n",
    "                 bias_initializer='zeros')\n",
    "])"
   ]
  },
  {
   "cell_type": "markdown",
   "metadata": {},
   "source": [
    "### 建立神經網路"
   ]
  },
  {
   "cell_type": "code",
   "execution_count": 16,
   "metadata": {},
   "outputs": [
    {
     "name": "stdout",
     "output_type": "stream",
     "text": [
      "Epoch 1/20\n",
      "60000/60000 - 24s - 403us/step - accuracy: 0.7243 - loss: 0.0483 - val_accuracy: 0.8846 - val_loss: 0.0248\n",
      "Epoch 2/20\n",
      "60000/60000 - 24s - 402us/step - accuracy: 0.8977 - loss: 0.0205 - val_accuracy: 0.9106 - val_loss: 0.0170\n",
      "Epoch 3/20\n",
      "60000/60000 - 24s - 398us/step - accuracy: 0.9128 - loss: 0.0162 - val_accuracy: 0.9191 - val_loss: 0.0148\n",
      "Epoch 4/20\n",
      "60000/60000 - 24s - 401us/step - accuracy: 0.9202 - loss: 0.0145 - val_accuracy: 0.9237 - val_loss: 0.0137\n",
      "Epoch 5/20\n",
      "60000/60000 - 26s - 430us/step - accuracy: 0.9248 - loss: 0.0134 - val_accuracy: 0.9264 - val_loss: 0.0130\n",
      "Epoch 6/20\n",
      "60000/60000 - 25s - 413us/step - accuracy: 0.9276 - loss: 0.0127 - val_accuracy: 0.9286 - val_loss: 0.0125\n",
      "Epoch 7/20\n",
      "60000/60000 - 24s - 402us/step - accuracy: 0.9309 - loss: 0.0121 - val_accuracy: 0.9302 - val_loss: 0.0122\n",
      "Epoch 8/20\n",
      "60000/60000 - 24s - 396us/step - accuracy: 0.9330 - loss: 0.0116 - val_accuracy: 0.9320 - val_loss: 0.0119\n",
      "Epoch 9/20\n",
      "60000/60000 - 24s - 397us/step - accuracy: 0.9346 - loss: 0.0113 - val_accuracy: 0.9336 - val_loss: 0.0116\n",
      "Epoch 10/20\n",
      "60000/60000 - 24s - 395us/step - accuracy: 0.9366 - loss: 0.0109 - val_accuracy: 0.9338 - val_loss: 0.0115\n",
      "Epoch 11/20\n",
      "60000/60000 - 24s - 397us/step - accuracy: 0.9377 - loss: 0.0107 - val_accuracy: 0.9339 - val_loss: 0.0113\n",
      "Epoch 12/20\n",
      "60000/60000 - 24s - 393us/step - accuracy: 0.9393 - loss: 0.0104 - val_accuracy: 0.9341 - val_loss: 0.0112\n",
      "Epoch 13/20\n",
      "60000/60000 - 24s - 392us/step - accuracy: 0.9406 - loss: 0.0102 - val_accuracy: 0.9344 - val_loss: 0.0110\n",
      "Epoch 14/20\n",
      "60000/60000 - 24s - 394us/step - accuracy: 0.9418 - loss: 0.0100 - val_accuracy: 0.9345 - val_loss: 0.0109\n",
      "Epoch 15/20\n",
      "60000/60000 - 24s - 394us/step - accuracy: 0.9429 - loss: 0.0098 - val_accuracy: 0.9347 - val_loss: 0.0108\n",
      "Epoch 16/20\n",
      "60000/60000 - 24s - 399us/step - accuracy: 0.9439 - loss: 0.0097 - val_accuracy: 0.9352 - val_loss: 0.0108\n",
      "Epoch 17/20\n",
      "60000/60000 - 24s - 395us/step - accuracy: 0.9447 - loss: 0.0095 - val_accuracy: 0.9358 - val_loss: 0.0107\n",
      "Epoch 18/20\n",
      "60000/60000 - 24s - 396us/step - accuracy: 0.9456 - loss: 0.0094 - val_accuracy: 0.9362 - val_loss: 0.0106\n",
      "Epoch 19/20\n",
      "60000/60000 - 24s - 392us/step - accuracy: 0.9465 - loss: 0.0092 - val_accuracy: 0.9366 - val_loss: 0.0105\n",
      "Epoch 20/20\n",
      "60000/60000 - 24s - 392us/step - accuracy: 0.9473 - loss: 0.0091 - val_accuracy: 0.9372 - val_loss: 0.0105\n"
     ]
    }
   ],
   "source": [
    "optimizer = keras.optimizers.SGD(learning_rate=0.01)\n",
    "\n",
    "model.compile(loss='mean_squared_error', optimizer=optimizer, metrics=['accuracy'])\n",
    "\n",
    "history = model.fit(train_images, train_labels, \n",
    "                    validation_data=(test_images, test_labels),\n",
    "                    epochs=EPOCHS, batch_size=BATCH_SIZE, \n",
    "                    verbose=2, shuffle=True)"
   ]
  },
  {
   "cell_type": "markdown",
   "metadata": {},
   "source": [
    "## 改善神經網路的訓練成效"
   ]
  },
  {
   "cell_type": "markdown",
   "metadata": {},
   "source": []
  }
 ],
 "metadata": {
  "kernelspec": {
   "display_name": "Python 3",
   "language": "python",
   "name": "python3"
  },
  "language_info": {
   "codemirror_mode": {
    "name": "ipython",
    "version": 3
   },
   "file_extension": ".py",
   "mimetype": "text/x-python",
   "name": "python",
   "nbconvert_exporter": "python",
   "pygments_lexer": "ipython3",
   "version": "3.11.6"
  },
  "orig_nbformat": 4
 },
 "nbformat": 4,
 "nbformat_minor": 2
}
