{
 "cells": [
  {
   "cell_type": "markdown",
   "metadata": {},
   "source": [
    "# <a id='toc1_'></a>[OpenAI 自學紀錄](#toc0_)"
   ]
  },
  {
   "cell_type": "markdown",
   "metadata": {},
   "source": [
    "**目錄**<a id='toc0_'></a>    \n",
    "- [OpenAI 自學紀錄](#toc1_)    \n",
    "  - [建立簡易的 OpenAI Bot](#toc1_1_)    \n",
    "    - [建立 OpenAI 對話](#toc1_1_1_)    \n",
    "    - [建立簡易的對談程式](#toc1_1_2_)    \n",
    "    - [記憶對話紀錄](#toc1_1_3_)    \n",
    "    - [加入搜尋功能](#toc1_1_4_)    \n",
    "  - [讓 AI 計算技術指標與資料視覺化](#toc1_2_)    \n",
    "    - [AI 自動計算指標公式](#toc1_2_1_)    \n",
    "    - [讓 AI 生成技術指標](#toc1_2_2_)    \n",
    "      - [移動平均線 (Moving Average)](#toc1_2_2_1_)    \n",
    "      - [指數平滑異同移動平均線 (MACD)](#toc1_2_2_2_)    \n",
    "      - [相對強弱指標 (Relative Strength Index, RSI)](#toc1_2_2_3_)    \n",
    "      - [布林通道 (Bollinger Bands)](#toc1_2_2_4_)    \n",
    "      - [資料處理自動化](#toc1_2_2_5_)    \n",
    "    - [資料視覺化](#toc1_2_3_)    \n",
    "      - [加入成交量圖表](#toc1_2_3_1_)    \n",
    "      - [加入技術指標](#toc1_2_3_2_)    \n",
    "      - [繪製 K 線圖](#toc1_2_3_3_)    \n",
    "      - [繪製其餘子圖](#toc1_2_3_4_)    \n",
    "      - [繪製互動式 K 線圖](#toc1_2_3_5_)    \n",
    "  - [AI 股票回測技術](#toc1_3_)    \n",
    "\n",
    "<!-- vscode-jupyter-toc-config\n",
    "\tnumbering=false\n",
    "\tanchor=true\n",
    "\tflat=false\n",
    "\tminLevel=1\n",
    "\tmaxLevel=6\n",
    "\t/vscode-jupyter-toc-config -->\n",
    "<!-- THIS CELL WILL BE REPLACED ON TOC UPDATE. DO NOT WRITE YOUR TEXT IN THIS CELL -->"
   ]
  },
  {
   "cell_type": "markdown",
   "metadata": {},
   "source": [
    "## <a id='toc1_1_'></a>[建立簡易的 OpenAI Bot](#toc0_)"
   ]
  },
  {
   "cell_type": "markdown",
   "metadata": {},
   "source": [
    "### <a id='toc1_1_1_'></a>[建立 OpenAI 對話](#toc0_)"
   ]
  },
  {
   "cell_type": "code",
   "execution_count": 5,
   "metadata": {},
   "outputs": [
    {
     "name": "stdout",
     "output_type": "stream",
     "text": [
      "不，我住的地方其實很黑暗。外太空的夜晚沒有城市燈光，只有星星和宇宙中的光芒。這種黑暗讓我特別享受宇宙的寧靜。\n",
      "本次的 token 用量為：130\n"
     ]
    }
   ],
   "source": [
    "from openai import OpenAI, OpenAIError\n",
    "import getpass\n",
    "import os\n",
    "\n",
    "file_path = os.path.join(os.getcwd(), \"Data\", \"openai_token\")\n",
    "with open(file_path, 'r') as file:\n",
    "    api_key = file.read().strip()  # 去除空白字符\n",
    "#api_key = getpass.getpass(\"請輸入金鑰：\")\n",
    "client = OpenAI(api_key=api_key)\n",
    "\n",
    "reply = client.chat.completions.create(\n",
    "    model = \"gpt-3.5-turbo\",\n",
    "    messages = [\n",
    "        {\"role\":\"system\", \"content\":\"你是隻住在外太空的猴子\"},\n",
    "        {\"role\":\"user\", \"content\":\"你住的地方很亮嗎？reply in 繁體中文\"}\n",
    "    ]\n",
    ")\n",
    "\n",
    "print(reply.choices[0].message.content)\n",
    "print(f\"本次的 token 用量為：{reply.usage.total_tokens}\")"
   ]
  },
  {
   "cell_type": "markdown",
   "metadata": {},
   "source": [
    "### <a id='toc1_1_2_'></a>[建立簡易的對談程式](#toc0_)"
   ]
  },
  {
   "cell_type": "code",
   "execution_count": 8,
   "metadata": {},
   "outputs": [],
   "source": [
    "def get_reply(messages):\n",
    "    try:\n",
    "        response = client.chat.completions.create(\n",
    "            model= \"gpt-3.5-turbo\",\n",
    "            messages= messages\n",
    "        )\n",
    "        reply = response.choices[0].message.content\n",
    "    except OpenAIError as err:\n",
    "        reply = f\"發生 {err.type} 錯誤\\n{err.message}\"\n",
    "    return reply"
   ]
  },
  {
   "cell_type": "markdown",
   "metadata": {},
   "source": [
    "### <a id='toc1_1_3_'></a>[記憶對話紀錄](#toc0_)"
   ]
  },
  {
   "cell_type": "code",
   "execution_count": 7,
   "metadata": {},
   "outputs": [],
   "source": [
    "history = []\n",
    "backtrace = 2\n",
    "\n",
    "def chat(sys_msg, user_msg):\n",
    "    history.append({\"role\":\"user\", \"content\":user_msg})\n",
    "    reply = get_reply(history + [{\"role\":\"system\", \"content\":sys_msg}])\n",
    "\n",
    "    while len(history) >= 2 * backtrace:\n",
    "        history.pop(0)  # 移除最舊紀錄\n",
    "    history.append({\"role\":\"assistant\", \"content\":reply})\n",
    "    return reply"
   ]
  },
  {
   "cell_type": "code",
   "execution_count": 10,
   "metadata": {},
   "outputs": [
    {
     "name": "stdout",
     "output_type": "stream",
     "text": [
      "你希望 AI 扮演：地理大師\n",
      "\n",
      "你：台灣在哪裡\n",
      "地理大師:台灣位於亞洲東部的西北太平洋中，靠近菲律賓、中國大陸、日本和韓國。台灣的正式名稱是中華民國，首都是台北。\n",
      "\n",
      "你：面積有多少\n",
      "地理大師:台灣的總面積約為3.6萬平方公里。\n",
      "\n"
     ]
    }
   ],
   "source": [
    "sys_msg = input(\"你希望 AI 扮演：\")\n",
    "if not sys_msg.strip():\n",
    "    sys_msg = \"小助理\"\n",
    "print(f\"你希望 AI 扮演：{sys_msg}\\n\")\n",
    "while True:\n",
    "    msg = input(\"你：\")\n",
    "    if not msg.strip():\n",
    "        break\n",
    "    reply = chat(sys_msg, msg)\n",
    "    print(f\"你：{msg}\")\n",
    "    print(f\"{sys_msg}:{reply}\\n\")\n",
    "\n",
    "history=[]"
   ]
  },
  {
   "cell_type": "markdown",
   "metadata": {},
   "source": [
    "### <a id='toc1_1_4_'></a>[加入搜尋功能](#toc0_)"
   ]
  },
  {
   "cell_type": "code",
   "execution_count": 24,
   "metadata": {},
   "outputs": [],
   "source": [
    "from googlesearch import search\n",
    "\n",
    "history = []\n",
    "backtrace = 5\n",
    "\n",
    "def chat_web(sys_msg, user_msg, is_search = True):\n",
    "    web_res = []\n",
    "    if is_search == True:\n",
    "        content = \"以下為已發生的事實：\\n\"\n",
    "        for res in search(user_msg, advanced=True, num_results=5, lang='zh_TW'):\n",
    "            content += f\"標題:{res.title}\\n摘要:{res.description}\\n\\n\"\n",
    "        content += \"請依照上述事實回答問題 \\n\"\n",
    "        web_res = [{\"role\":\"user\", \"content\": content}]\n",
    "    web_res.append({\"role\":\"user\", \"content\":user_msg})\n",
    "\n",
    "    while len(history) >= 2 * backtrace:\n",
    "        history.pop(0)\n",
    "    \n",
    "    reply_full = \"\"\n",
    "\n",
    "    for reply in get_reply(\n",
    "        history         # 歷史訊息\n",
    "        + web_res       # 目前訊息和搜尋結果\n",
    "        + [{\"role\":\"system\", \"content\": sys_msg}]\n",
    "    ):\n",
    "        reply_full += reply     # 記錄目前收到的訊息\n",
    "        yield reply     # 傳回本次收到的訊息\n",
    "    history.append({\"role\":\"user\", \"content\":user_msg})\n",
    "\n",
    "    while len(history) >= 2 * backtrace:\n",
    "        history.pop(0)\n",
    "    history.append({\"role\":\"assistant\", \"content\":reply_full})"
   ]
  },
  {
   "cell_type": "code",
   "execution_count": 28,
   "metadata": {},
   "outputs": [
    {
     "name": "stdout",
     "output_type": "stream",
     "text": [
      "你：2023 年的 NBA 冠軍是誰？ reply in 繁體中文\n",
      "小助理: 2023年的NBA冠軍是丹佛金塊。\n",
      "\n"
     ]
    }
   ],
   "source": [
    "sys_msg = \"小助理\"\n",
    "\n",
    "while True:\n",
    "    msg = input(\"你：\")\n",
    "    if not msg.strip():\n",
    "        break\n",
    "    print(f\"你：{msg}\")\n",
    "    print(f\"{sys_msg}: \", end=\"\")\n",
    "    for reply in chat_web(sys_msg, msg, is_search=True):\n",
    "        print(reply, end=\"\")\n",
    "    print('\\n')\n",
    "history = []"
   ]
  },
  {
   "cell_type": "markdown",
   "metadata": {},
   "source": [
    "目前以上程式經測試後可以正確回答超出 GPT 資料蒐集時間的內容。\n",
    "\n",
    "但在搜尋的部分**不會繼承記憶性**，目前打算的改法為：讓 chatgpt 總結關鍵的 token，再透過 search 得出結果，再將結果再次輸入 chatgpt"
   ]
  },
  {
   "cell_type": "markdown",
   "metadata": {},
   "source": [
    "## <a id='toc1_2_'></a>[讓 AI 計算技術指標與資料視覺化](#toc0_)"
   ]
  },
  {
   "cell_type": "markdown",
   "metadata": {},
   "source": [
    "### <a id='toc1_2_1_'></a>[AI 自動計算指標公式](#toc0_)"
   ]
  },
  {
   "cell_type": "code",
   "execution_count": 21,
   "metadata": {},
   "outputs": [
    {
     "name": "stderr",
     "output_type": "stream",
     "text": [
      "[*********************100%%**********************]  1 of 1 completed"
     ]
    },
    {
     "name": "stdout",
     "output_type": "stream",
     "text": [
      "          Date   Open   High    Low  Close   Adj Close    Volume\n",
      "0   2023-09-25  522.0  529.0  522.0  525.0  519.842834  17116402\n",
      "1   2023-09-26  521.0  524.0  519.0  519.0  513.901733  26392692\n",
      "2   2023-09-27  517.0  523.0  516.0  522.0  516.872253  16846401\n",
      "3   2023-09-28  523.0  525.0  520.0  523.0  517.862427  19733331\n",
      "4   2023-10-02  530.0  534.0  528.0  533.0  527.764221  25427911\n",
      "..         ...    ...    ...    ...    ...         ...       ...\n",
      "111 2024-03-14  779.0  785.0  770.0  784.0  780.355896  42010806\n",
      "112 2024-03-15  771.0  777.0  753.0  753.0  749.500000  73316437\n",
      "113 2024-03-18  754.0  765.0  754.0  764.0  764.000000  43589856\n",
      "114 2024-03-19  758.0  765.0  755.0  762.0  762.000000  30152375\n",
      "115 2024-03-20  764.0  769.0  752.0  758.0  758.000000  41280325\n",
      "\n",
      "[116 rows x 7 columns]\n"
     ]
    },
    {
     "name": "stderr",
     "output_type": "stream",
     "text": [
      "\n"
     ]
    }
   ],
   "source": [
    "from openai import OpenAI, OpenAIError\n",
    "import yfinance as yf\n",
    "import pandas as pd\n",
    "import datetime as dt\n",
    "\n",
    "stock_id = \"2330.tw\"    # 台積電\n",
    "end = dt.date.today()   # 資料結束時間\n",
    "start = end - dt.timedelta(days=180)    # 資料開始時間\n",
    "df = yf.download(stock_id, start=start, end=end).reset_index()\n",
    "\n",
    "print(df)"
   ]
  },
  {
   "cell_type": "code",
   "execution_count": 6,
   "metadata": {},
   "outputs": [],
   "source": [
    "client = OpenAI(api_key=api_key)\n",
    "\n",
    "def ai_helper(df, user_msg):\n",
    "    msg = [{\n",
    "        \"role\": \"system\",\n",
    "        \"content\": \n",
    "        f\"As a professional code generation robot, \\n\\\n",
    "        I require your assistance in generating Python code \\n\\\n",
    "        based on specific user requirements. To proceed, \\n\\\n",
    "        I will provide you with a dataframe (df) that follows the \\n\\\n",
    "        format {df.columns}. Your task is to carefully analyze the\\n\\\n",
    "        user's requirements and generate python code \\n\\\n",
    "        accordingly. Please note that your response should solely \\n\\\n",
    "        consist of the code itself,\\n\\\n",
    "        and no additional information should be include.\"\n",
    "    }, {\n",
    "        \"role\": \"user\",\n",
    "        \"content\":\n",
    "        f\"The user requirement:{user_msg} \\n\\\n",
    "        Your task is to create a function named 'calculate(df)' \\n\\\n",
    "        that takes a dataframe as input. The function should process \\n\\\n",
    "        the dataframe and return only the processed dataframe. \\n\\\n",
    "        Please ensure that your response includes the Python code \\n\\\n",
    "        for the 'calculate(df)' function \\n\\\n",
    "        and does not include any other content.\"\n",
    "    }]\n",
    "    reply_data = get_reply(msg)\n",
    "    return reply_data"
   ]
  },
  {
   "cell_type": "markdown",
   "metadata": {},
   "source": [
    "### <a id='toc1_2_2_'></a>[讓 AI 生成技術指標](#toc0_)"
   ]
  },
  {
   "cell_type": "markdown",
   "metadata": {},
   "source": [
    "#### <a id='toc1_2_2_1_'></a>[移動平均線 (Moving Average)](#toc0_)\n",
    "\n",
    "**移動平均線 (MA)**是一種最常見的技術指標，會將一定時間內的**收盤價**進行平均，根據不同的天數（週線 5 天、月線 20 天、季線 60 天）能夠反映短期、中期、長期的價格趨勢。\n",
    "\n",
    "**指數移動平均 (EMA)** 則會給近期的價格更高的權重做加權平均。"
   ]
  },
  {
   "cell_type": "code",
   "execution_count": 60,
   "metadata": {},
   "outputs": [
    {
     "name": "stdout",
     "output_type": "stream",
     "text": [
      "def calculate(df):\n",
      "    df['8_MA'] = df['Close'].rolling(window=8).mean()\n",
      "    df['13_MA'] = df['Close'].rolling(window=13).mean()\n",
      "    return df\n"
     ]
    },
    {
     "data": {
      "text/html": [
       "<div>\n",
       "<style scoped>\n",
       "    .dataframe tbody tr th:only-of-type {\n",
       "        vertical-align: middle;\n",
       "    }\n",
       "\n",
       "    .dataframe tbody tr th {\n",
       "        vertical-align: top;\n",
       "    }\n",
       "\n",
       "    .dataframe thead th {\n",
       "        text-align: right;\n",
       "    }\n",
       "</style>\n",
       "<table border=\"1\" class=\"dataframe\">\n",
       "  <thead>\n",
       "    <tr style=\"text-align: right;\">\n",
       "      <th></th>\n",
       "      <th>Open</th>\n",
       "      <th>High</th>\n",
       "      <th>Low</th>\n",
       "      <th>Close</th>\n",
       "      <th>Adj Close</th>\n",
       "      <th>Volume</th>\n",
       "      <th>MACD Line</th>\n",
       "      <th>Signal Line</th>\n",
       "      <th>8_MA</th>\n",
       "      <th>13_MA</th>\n",
       "    </tr>\n",
       "    <tr>\n",
       "      <th>Date</th>\n",
       "      <th></th>\n",
       "      <th></th>\n",
       "      <th></th>\n",
       "      <th></th>\n",
       "      <th></th>\n",
       "      <th></th>\n",
       "      <th></th>\n",
       "      <th></th>\n",
       "      <th></th>\n",
       "      <th></th>\n",
       "    </tr>\n",
       "  </thead>\n",
       "  <tbody>\n",
       "    <tr>\n",
       "      <th>2024-03-18</th>\n",
       "      <td>754.0</td>\n",
       "      <td>765.0</td>\n",
       "      <td>754.0</td>\n",
       "      <td>764.0</td>\n",
       "      <td>764.0</td>\n",
       "      <td>43589856</td>\n",
       "      <td>33.739481</td>\n",
       "      <td>33.454185</td>\n",
       "      <td>770.000</td>\n",
       "      <td>748.384615</td>\n",
       "    </tr>\n",
       "    <tr>\n",
       "      <th>2024-03-19</th>\n",
       "      <td>758.0</td>\n",
       "      <td>765.0</td>\n",
       "      <td>755.0</td>\n",
       "      <td>762.0</td>\n",
       "      <td>762.0</td>\n",
       "      <td>30152375</td>\n",
       "      <td>32.110159</td>\n",
       "      <td>33.185380</td>\n",
       "      <td>770.250</td>\n",
       "      <td>753.923077</td>\n",
       "    </tr>\n",
       "    <tr>\n",
       "      <th>2024-03-20</th>\n",
       "      <td>764.0</td>\n",
       "      <td>769.0</td>\n",
       "      <td>752.0</td>\n",
       "      <td>758.0</td>\n",
       "      <td>758.0</td>\n",
       "      <td>41280325</td>\n",
       "      <td>30.148609</td>\n",
       "      <td>32.578025</td>\n",
       "      <td>767.000</td>\n",
       "      <td>759.230769</td>\n",
       "    </tr>\n",
       "    <tr>\n",
       "      <th>2024-03-21</th>\n",
       "      <td>773.0</td>\n",
       "      <td>784.0</td>\n",
       "      <td>772.0</td>\n",
       "      <td>784.0</td>\n",
       "      <td>784.0</td>\n",
       "      <td>46026103</td>\n",
       "      <td>30.342282</td>\n",
       "      <td>32.130877</td>\n",
       "      <td>769.250</td>\n",
       "      <td>763.769231</td>\n",
       "    </tr>\n",
       "    <tr>\n",
       "      <th>2024-03-22</th>\n",
       "      <td>788.0</td>\n",
       "      <td>789.0</td>\n",
       "      <td>775.0</td>\n",
       "      <td>785.0</td>\n",
       "      <td>785.0</td>\n",
       "      <td>30660820</td>\n",
       "      <td>30.228011</td>\n",
       "      <td>31.750303</td>\n",
       "      <td>771.125</td>\n",
       "      <td>768.000000</td>\n",
       "    </tr>\n",
       "  </tbody>\n",
       "</table>\n",
       "</div>"
      ],
      "text/plain": [
       "             Open   High    Low  Close  Adj Close    Volume  MACD Line  \\\n",
       "Date                                                                     \n",
       "2024-03-18  754.0  765.0  754.0  764.0      764.0  43589856  33.739481   \n",
       "2024-03-19  758.0  765.0  755.0  762.0      762.0  30152375  32.110159   \n",
       "2024-03-20  764.0  769.0  752.0  758.0      758.0  41280325  30.148609   \n",
       "2024-03-21  773.0  784.0  772.0  784.0      784.0  46026103  30.342282   \n",
       "2024-03-22  788.0  789.0  775.0  785.0      785.0  30660820  30.228011   \n",
       "\n",
       "            Signal Line     8_MA       13_MA  \n",
       "Date                                          \n",
       "2024-03-18    33.454185  770.000  748.384615  \n",
       "2024-03-19    33.185380  770.250  753.923077  \n",
       "2024-03-20    32.578025  767.000  759.230769  \n",
       "2024-03-21    32.130877  769.250  763.769231  \n",
       "2024-03-22    31.750303  771.125  768.000000  "
      ]
     },
     "execution_count": 60,
     "metadata": {},
     "output_type": "execute_result"
    }
   ],
   "source": [
    "# 避開 compiler 檢查\n",
    "def calculate(df):\n",
    "    pass\n",
    "\n",
    "def ai_code_exec(df, instruction):\n",
    "    code_str = ai_helper(df, instruction)\n",
    "    print(code_str)\n",
    "\n",
    "    # 將 exec 生成的 calculate 設為 local variable\n",
    "    local_vars = {}\n",
    "    # 執行 AI 產生的程式碼\n",
    "    exec(code_str, globals(), local_vars)\n",
    "    calculate = local_vars['calculate']\n",
    "\n",
    "    new_df = df.copy()\n",
    "    new_df = calculate(new_df)\n",
    "    return new_df\n",
    "\n",
    "new_df = ai_code_exec(df, \"計算 8 日 MA 與 13 日 MA\" )\n",
    "# 這裡保險起見可能需要檢查 new_df\n",
    "new_df.tail()"
   ]
  },
  {
   "cell_type": "markdown",
   "metadata": {},
   "source": [
    "#### <a id='toc1_2_2_2_'></a>[指數平滑異同移動平均線 (MACD)](#toc0_)\n",
    "\n",
    "**MACD** 建立在 EMA 的基礎上，故 MACD 更在乎近期的價格趨勢。在技術分析中，MACD 柱狀圖可以看出股價趨勢是否反轉。可以觀察 MACD 柱狀圖**由負轉正**或**由正轉負**的時候，即為買賣的進出點"
   ]
  },
  {
   "cell_type": "code",
   "execution_count": 48,
   "metadata": {},
   "outputs": [
    {
     "name": "stdout",
     "output_type": "stream",
     "text": [
      "def calculate(df):\n",
      "    df['EMA_12'] = df['Close'].ewm(span=12, adjust=False).mean()\n",
      "    df['EMA_26'] = df['Close'].ewm(span=26, adjust=False).mean()\n",
      "    df['MACD'] = df['EMA_12'] - df['EMA_26']\n",
      "    df['Signal_Line'] = df['MACD'].ewm(span=9, adjust=False).mean()\n",
      "    df['MACD Histogram'] = df['MACD'] - df['Signal_Line']\n",
      "    \n",
      "    return df\n"
     ]
    },
    {
     "data": {
      "text/html": [
       "<div>\n",
       "<style scoped>\n",
       "    .dataframe tbody tr th:only-of-type {\n",
       "        vertical-align: middle;\n",
       "    }\n",
       "\n",
       "    .dataframe tbody tr th {\n",
       "        vertical-align: top;\n",
       "    }\n",
       "\n",
       "    .dataframe thead th {\n",
       "        text-align: right;\n",
       "    }\n",
       "</style>\n",
       "<table border=\"1\" class=\"dataframe\">\n",
       "  <thead>\n",
       "    <tr style=\"text-align: right;\">\n",
       "      <th></th>\n",
       "      <th>Date</th>\n",
       "      <th>Open</th>\n",
       "      <th>High</th>\n",
       "      <th>Low</th>\n",
       "      <th>Close</th>\n",
       "      <th>Adj Close</th>\n",
       "      <th>Volume</th>\n",
       "      <th>EMA_12</th>\n",
       "      <th>EMA_26</th>\n",
       "      <th>MACD</th>\n",
       "      <th>Signal_Line</th>\n",
       "      <th>MACD Histogram</th>\n",
       "    </tr>\n",
       "  </thead>\n",
       "  <tbody>\n",
       "    <tr>\n",
       "      <th>111</th>\n",
       "      <td>2024-03-14</td>\n",
       "      <td>779.0</td>\n",
       "      <td>785.0</td>\n",
       "      <td>770.0</td>\n",
       "      <td>784.0</td>\n",
       "      <td>780.355896</td>\n",
       "      <td>42010806</td>\n",
       "      <td>747.975934</td>\n",
       "      <td>710.470696</td>\n",
       "      <td>37.505238</td>\n",
       "      <td>32.952416</td>\n",
       "      <td>4.552822</td>\n",
       "    </tr>\n",
       "    <tr>\n",
       "      <th>112</th>\n",
       "      <td>2024-03-15</td>\n",
       "      <td>771.0</td>\n",
       "      <td>777.0</td>\n",
       "      <td>753.0</td>\n",
       "      <td>753.0</td>\n",
       "      <td>749.500000</td>\n",
       "      <td>73316437</td>\n",
       "      <td>748.748868</td>\n",
       "      <td>713.621015</td>\n",
       "      <td>35.127853</td>\n",
       "      <td>33.387503</td>\n",
       "      <td>1.740349</td>\n",
       "    </tr>\n",
       "    <tr>\n",
       "      <th>113</th>\n",
       "      <td>2024-03-18</td>\n",
       "      <td>754.0</td>\n",
       "      <td>765.0</td>\n",
       "      <td>754.0</td>\n",
       "      <td>764.0</td>\n",
       "      <td>764.000000</td>\n",
       "      <td>43589856</td>\n",
       "      <td>751.095196</td>\n",
       "      <td>717.352792</td>\n",
       "      <td>33.742404</td>\n",
       "      <td>33.458483</td>\n",
       "      <td>0.283921</td>\n",
       "    </tr>\n",
       "    <tr>\n",
       "      <th>114</th>\n",
       "      <td>2024-03-19</td>\n",
       "      <td>758.0</td>\n",
       "      <td>765.0</td>\n",
       "      <td>755.0</td>\n",
       "      <td>762.0</td>\n",
       "      <td>762.000000</td>\n",
       "      <td>30152375</td>\n",
       "      <td>752.772858</td>\n",
       "      <td>720.659992</td>\n",
       "      <td>32.112866</td>\n",
       "      <td>33.189360</td>\n",
       "      <td>-1.076494</td>\n",
       "    </tr>\n",
       "    <tr>\n",
       "      <th>115</th>\n",
       "      <td>2024-03-20</td>\n",
       "      <td>764.0</td>\n",
       "      <td>769.0</td>\n",
       "      <td>752.0</td>\n",
       "      <td>758.0</td>\n",
       "      <td>758.000000</td>\n",
       "      <td>41280325</td>\n",
       "      <td>753.577034</td>\n",
       "      <td>723.425919</td>\n",
       "      <td>30.151115</td>\n",
       "      <td>32.581711</td>\n",
       "      <td>-2.430596</td>\n",
       "    </tr>\n",
       "  </tbody>\n",
       "</table>\n",
       "</div>"
      ],
      "text/plain": [
       "          Date   Open   High    Low  Close   Adj Close    Volume      EMA_12  \\\n",
       "111 2024-03-14  779.0  785.0  770.0  784.0  780.355896  42010806  747.975934   \n",
       "112 2024-03-15  771.0  777.0  753.0  753.0  749.500000  73316437  748.748868   \n",
       "113 2024-03-18  754.0  765.0  754.0  764.0  764.000000  43589856  751.095196   \n",
       "114 2024-03-19  758.0  765.0  755.0  762.0  762.000000  30152375  752.772858   \n",
       "115 2024-03-20  764.0  769.0  752.0  758.0  758.000000  41280325  753.577034   \n",
       "\n",
       "         EMA_26       MACD  Signal_Line  MACD Histogram  \n",
       "111  710.470696  37.505238    32.952416        4.552822  \n",
       "112  713.621015  35.127853    33.387503        1.740349  \n",
       "113  717.352792  33.742404    33.458483        0.283921  \n",
       "114  720.659992  32.112866    33.189360       -1.076494  \n",
       "115  723.425919  30.151115    32.581711       -2.430596  "
      ]
     },
     "execution_count": 48,
     "metadata": {},
     "output_type": "execute_result"
    }
   ],
   "source": [
    "new_df = ai_code_exec(df, \"計算 MACD, 欄位名稱用 'MACD Histogram' 命名\")\n",
    "new_df.tail()"
   ]
  },
  {
   "cell_type": "markdown",
   "metadata": {},
   "source": [
    "#### <a id='toc1_2_2_3_'></a>[相對強弱指標 (Relative Strength Index, RSI)](#toc0_)\n",
    "\n",
    "**RSI 指標** 通常用來判斷市場是**超買**還是**超賣**，範圍介於 0 ~ 100 之間。當 RSI 大於 70 ~ 80 時，代表目前可能被過度買入。而 RSI 小於 20 ~ 30 時，則代表可能被過度賣出。我們可以使用 RSI 指標來判斷否出現反轉訊號\n",
    "\n",
    "$RSI = \\displaystyle \\frac{漲幅平均值}{漲幅平均值 + |跌幅平均值|}$，取一段時間。"
   ]
  },
  {
   "cell_type": "code",
   "execution_count": 47,
   "metadata": {},
   "outputs": [
    {
     "name": "stdout",
     "output_type": "stream",
     "text": [
      "def calculate(df):\n",
      "    delta = df['Close'].diff()\n",
      "    gain = delta.mask(delta < 0, 0)\n",
      "    loss = -delta.mask(delta > 0, 0)\n",
      "\n",
      "    avg_gain = gain.ewm(span=14, min_periods=14).mean()\n",
      "    avg_loss = loss.ewm(span=14, min_periods=14).mean()\n",
      "\n",
      "    rs = avg_gain / avg_loss\n",
      "    df['RSI'] = 100 - (100 / (1 + rs))\n",
      "\n",
      "    return df\n"
     ]
    },
    {
     "data": {
      "text/html": [
       "<div>\n",
       "<style scoped>\n",
       "    .dataframe tbody tr th:only-of-type {\n",
       "        vertical-align: middle;\n",
       "    }\n",
       "\n",
       "    .dataframe tbody tr th {\n",
       "        vertical-align: top;\n",
       "    }\n",
       "\n",
       "    .dataframe thead th {\n",
       "        text-align: right;\n",
       "    }\n",
       "</style>\n",
       "<table border=\"1\" class=\"dataframe\">\n",
       "  <thead>\n",
       "    <tr style=\"text-align: right;\">\n",
       "      <th></th>\n",
       "      <th>Date</th>\n",
       "      <th>Open</th>\n",
       "      <th>High</th>\n",
       "      <th>Low</th>\n",
       "      <th>Close</th>\n",
       "      <th>Adj Close</th>\n",
       "      <th>Volume</th>\n",
       "      <th>RSI</th>\n",
       "    </tr>\n",
       "  </thead>\n",
       "  <tbody>\n",
       "    <tr>\n",
       "      <th>111</th>\n",
       "      <td>2024-03-14</td>\n",
       "      <td>779.0</td>\n",
       "      <td>785.0</td>\n",
       "      <td>770.0</td>\n",
       "      <td>784.0</td>\n",
       "      <td>780.355896</td>\n",
       "      <td>42010806</td>\n",
       "      <td>79.503621</td>\n",
       "    </tr>\n",
       "    <tr>\n",
       "      <th>112</th>\n",
       "      <td>2024-03-15</td>\n",
       "      <td>771.0</td>\n",
       "      <td>777.0</td>\n",
       "      <td>753.0</td>\n",
       "      <td>753.0</td>\n",
       "      <td>749.500000</td>\n",
       "      <td>73316437</td>\n",
       "      <td>55.511496</td>\n",
       "    </tr>\n",
       "    <tr>\n",
       "      <th>113</th>\n",
       "      <td>2024-03-18</td>\n",
       "      <td>754.0</td>\n",
       "      <td>765.0</td>\n",
       "      <td>754.0</td>\n",
       "      <td>764.0</td>\n",
       "      <td>764.000000</td>\n",
       "      <td>43589856</td>\n",
       "      <td>60.403808</td>\n",
       "    </tr>\n",
       "    <tr>\n",
       "      <th>114</th>\n",
       "      <td>2024-03-19</td>\n",
       "      <td>758.0</td>\n",
       "      <td>765.0</td>\n",
       "      <td>755.0</td>\n",
       "      <td>762.0</td>\n",
       "      <td>762.000000</td>\n",
       "      <td>30152375</td>\n",
       "      <td>59.041703</td>\n",
       "    </tr>\n",
       "    <tr>\n",
       "      <th>115</th>\n",
       "      <td>2024-03-20</td>\n",
       "      <td>764.0</td>\n",
       "      <td>769.0</td>\n",
       "      <td>752.0</td>\n",
       "      <td>758.0</td>\n",
       "      <td>758.000000</td>\n",
       "      <td>41280325</td>\n",
       "      <td>56.121243</td>\n",
       "    </tr>\n",
       "  </tbody>\n",
       "</table>\n",
       "</div>"
      ],
      "text/plain": [
       "          Date   Open   High    Low  Close   Adj Close    Volume        RSI\n",
       "111 2024-03-14  779.0  785.0  770.0  784.0  780.355896  42010806  79.503621\n",
       "112 2024-03-15  771.0  777.0  753.0  753.0  749.500000  73316437  55.511496\n",
       "113 2024-03-18  754.0  765.0  754.0  764.0  764.000000  43589856  60.403808\n",
       "114 2024-03-19  758.0  765.0  755.0  762.0  762.000000  30152375  59.041703\n",
       "115 2024-03-20  764.0  769.0  752.0  758.0  758.000000  41280325  56.121243"
      ]
     },
     "execution_count": 47,
     "metadata": {},
     "output_type": "execute_result"
    }
   ],
   "source": [
    "new_df = ai_code_exec(df, \"計算 RSI 指標\")\n",
    "new_df.tail()"
   ]
  },
  {
   "cell_type": "markdown",
   "metadata": {},
   "source": [
    "#### <a id='toc1_2_2_4_'></a>[布林通道 (Bollinger Bands)](#toc0_)\n",
    "\n",
    "**布林通道**主要由移動平均線、上軌線與下軌線組合，中間會形成一個通道。\n",
    "通道的兩端分別代表**買入或賣出的壓力**線，當股價觸及上軌線時，可以視為**賣出訊號**；反之，則為**買入訊號**。"
   ]
  },
  {
   "cell_type": "code",
   "execution_count": 46,
   "metadata": {},
   "outputs": [
    {
     "name": "stdout",
     "output_type": "stream",
     "text": [
      "def calculate(df):\n",
      "    df['Middle Band'] = df['Close'].rolling(window=20).mean()\n",
      "    df['STD'] = df['Close'].rolling(window=20).std()\n",
      "    df['Upper Band'] = df['Middle Band'] + 1.5 * df['STD']\n",
      "    df['Lower Band'] = df['Middle Band'] - 1.5 * df['STD']\n",
      "    \n",
      "    return df[['Date', 'Open', 'High', 'Low', 'Close', 'Adj Close', 'Volume', 'Upper Band', 'Lower Band']]\n"
     ]
    },
    {
     "data": {
      "text/html": [
       "<div>\n",
       "<style scoped>\n",
       "    .dataframe tbody tr th:only-of-type {\n",
       "        vertical-align: middle;\n",
       "    }\n",
       "\n",
       "    .dataframe tbody tr th {\n",
       "        vertical-align: top;\n",
       "    }\n",
       "\n",
       "    .dataframe thead th {\n",
       "        text-align: right;\n",
       "    }\n",
       "</style>\n",
       "<table border=\"1\" class=\"dataframe\">\n",
       "  <thead>\n",
       "    <tr style=\"text-align: right;\">\n",
       "      <th></th>\n",
       "      <th>Date</th>\n",
       "      <th>Open</th>\n",
       "      <th>High</th>\n",
       "      <th>Low</th>\n",
       "      <th>Close</th>\n",
       "      <th>Adj Close</th>\n",
       "      <th>Volume</th>\n",
       "      <th>Upper Band</th>\n",
       "      <th>Lower Band</th>\n",
       "    </tr>\n",
       "  </thead>\n",
       "  <tbody>\n",
       "    <tr>\n",
       "      <th>111</th>\n",
       "      <td>2024-03-14</td>\n",
       "      <td>779.0</td>\n",
       "      <td>785.0</td>\n",
       "      <td>770.0</td>\n",
       "      <td>784.0</td>\n",
       "      <td>780.355896</td>\n",
       "      <td>42010806</td>\n",
       "      <td>779.373588</td>\n",
       "      <td>662.926412</td>\n",
       "    </tr>\n",
       "    <tr>\n",
       "      <th>112</th>\n",
       "      <td>2024-03-15</td>\n",
       "      <td>771.0</td>\n",
       "      <td>777.0</td>\n",
       "      <td>753.0</td>\n",
       "      <td>753.0</td>\n",
       "      <td>749.500000</td>\n",
       "      <td>73316437</td>\n",
       "      <td>782.451974</td>\n",
       "      <td>665.448026</td>\n",
       "    </tr>\n",
       "    <tr>\n",
       "      <th>113</th>\n",
       "      <td>2024-03-18</td>\n",
       "      <td>754.0</td>\n",
       "      <td>765.0</td>\n",
       "      <td>754.0</td>\n",
       "      <td>764.0</td>\n",
       "      <td>764.000000</td>\n",
       "      <td>43589856</td>\n",
       "      <td>786.094750</td>\n",
       "      <td>669.905250</td>\n",
       "    </tr>\n",
       "    <tr>\n",
       "      <th>114</th>\n",
       "      <td>2024-03-19</td>\n",
       "      <td>758.0</td>\n",
       "      <td>765.0</td>\n",
       "      <td>755.0</td>\n",
       "      <td>762.0</td>\n",
       "      <td>762.000000</td>\n",
       "      <td>30152375</td>\n",
       "      <td>788.538825</td>\n",
       "      <td>675.861175</td>\n",
       "    </tr>\n",
       "    <tr>\n",
       "      <th>115</th>\n",
       "      <td>2024-03-20</td>\n",
       "      <td>764.0</td>\n",
       "      <td>769.0</td>\n",
       "      <td>752.0</td>\n",
       "      <td>758.0</td>\n",
       "      <td>758.000000</td>\n",
       "      <td>41280325</td>\n",
       "      <td>790.349469</td>\n",
       "      <td>681.150531</td>\n",
       "    </tr>\n",
       "  </tbody>\n",
       "</table>\n",
       "</div>"
      ],
      "text/plain": [
       "          Date   Open   High    Low  Close   Adj Close    Volume  Upper Band  \\\n",
       "111 2024-03-14  779.0  785.0  770.0  784.0  780.355896  42010806  779.373588   \n",
       "112 2024-03-15  771.0  777.0  753.0  753.0  749.500000  73316437  782.451974   \n",
       "113 2024-03-18  754.0  765.0  754.0  764.0  764.000000  43589856  786.094750   \n",
       "114 2024-03-19  758.0  765.0  755.0  762.0  762.000000  30152375  788.538825   \n",
       "115 2024-03-20  764.0  769.0  752.0  758.0  758.000000  41280325  790.349469   \n",
       "\n",
       "     Lower Band  \n",
       "111  662.926412  \n",
       "112  665.448026  \n",
       "113  669.905250  \n",
       "114  675.861175  \n",
       "115  681.150531  "
      ]
     },
     "execution_count": 46,
     "metadata": {},
     "output_type": "execute_result"
    }
   ],
   "source": [
    "new_df = ai_code_exec(df, \"請計算 1.5 個標準差的布林通道， 欄位以 'Upper Band' 和 'Lower Band' 命名\")\n",
    "new_df.tail()"
   ]
  },
  {
   "cell_type": "markdown",
   "metadata": {},
   "source": [
    "#### <a id='toc1_2_2_5_'></a>[資料處理自動化](#toc0_)"
   ]
  },
  {
   "cell_type": "code",
   "execution_count": 45,
   "metadata": {},
   "outputs": [
    {
     "name": "stdout",
     "output_type": "stream",
     "text": [
      "def calculate(df):\n",
      "    df['Date'] = pd.to_datetime(df['Date'])\n",
      "    df.set_index('Date', inplace=True)\n",
      "    df_monthly = df.resample('M').agg({\n",
      "        'Open': 'first',\n",
      "        'High': 'max',\n",
      "        'Low': 'min',\n",
      "        'Close': 'last',\n",
      "        'Adj Close': 'last',\n",
      "        'Volume': 'sum'\n",
      "    })\n",
      "    return df_monthly\n"
     ]
    },
    {
     "name": "stderr",
     "output_type": "stream",
     "text": [
      "<string>:4: FutureWarning: 'M' is deprecated and will be removed in a future version, please use 'ME' instead.\n"
     ]
    },
    {
     "data": {
      "text/html": [
       "<div>\n",
       "<style scoped>\n",
       "    .dataframe tbody tr th:only-of-type {\n",
       "        vertical-align: middle;\n",
       "    }\n",
       "\n",
       "    .dataframe tbody tr th {\n",
       "        vertical-align: top;\n",
       "    }\n",
       "\n",
       "    .dataframe thead th {\n",
       "        text-align: right;\n",
       "    }\n",
       "</style>\n",
       "<table border=\"1\" class=\"dataframe\">\n",
       "  <thead>\n",
       "    <tr style=\"text-align: right;\">\n",
       "      <th></th>\n",
       "      <th>Open</th>\n",
       "      <th>High</th>\n",
       "      <th>Low</th>\n",
       "      <th>Close</th>\n",
       "      <th>Adj Close</th>\n",
       "      <th>Volume</th>\n",
       "    </tr>\n",
       "    <tr>\n",
       "      <th>Date</th>\n",
       "      <th></th>\n",
       "      <th></th>\n",
       "      <th></th>\n",
       "      <th></th>\n",
       "      <th></th>\n",
       "      <th></th>\n",
       "    </tr>\n",
       "  </thead>\n",
       "  <tbody>\n",
       "    <tr>\n",
       "      <th>2023-11-30</th>\n",
       "      <td>533.0</td>\n",
       "      <td>585.0</td>\n",
       "      <td>527.0</td>\n",
       "      <td>577.0</td>\n",
       "      <td>571.331970</td>\n",
       "      <td>531342183</td>\n",
       "    </tr>\n",
       "    <tr>\n",
       "      <th>2023-12-31</th>\n",
       "      <td>573.0</td>\n",
       "      <td>593.0</td>\n",
       "      <td>566.0</td>\n",
       "      <td>593.0</td>\n",
       "      <td>590.243713</td>\n",
       "      <td>565572937</td>\n",
       "    </tr>\n",
       "    <tr>\n",
       "      <th>2024-01-31</th>\n",
       "      <td>590.0</td>\n",
       "      <td>648.0</td>\n",
       "      <td>574.0</td>\n",
       "      <td>628.0</td>\n",
       "      <td>625.080994</td>\n",
       "      <td>801241408</td>\n",
       "    </tr>\n",
       "    <tr>\n",
       "      <th>2024-02-29</th>\n",
       "      <td>625.0</td>\n",
       "      <td>709.0</td>\n",
       "      <td>619.0</td>\n",
       "      <td>690.0</td>\n",
       "      <td>686.792847</td>\n",
       "      <td>563384426</td>\n",
       "    </tr>\n",
       "    <tr>\n",
       "      <th>2024-03-31</th>\n",
       "      <td>697.0</td>\n",
       "      <td>796.0</td>\n",
       "      <td>688.0</td>\n",
       "      <td>758.0</td>\n",
       "      <td>758.000000</td>\n",
       "      <td>769274636</td>\n",
       "    </tr>\n",
       "  </tbody>\n",
       "</table>\n",
       "</div>"
      ],
      "text/plain": [
       "             Open   High    Low  Close   Adj Close     Volume\n",
       "Date                                                         \n",
       "2023-11-30  533.0  585.0  527.0  577.0  571.331970  531342183\n",
       "2023-12-31  573.0  593.0  566.0  593.0  590.243713  565572937\n",
       "2024-01-31  590.0  648.0  574.0  628.0  625.080994  801241408\n",
       "2024-02-29  625.0  709.0  619.0  690.0  686.792847  563384426\n",
       "2024-03-31  697.0  796.0  688.0  758.0  758.000000  769274636"
      ]
     },
     "execution_count": 45,
     "metadata": {},
     "output_type": "execute_result"
    }
   ],
   "source": [
    "df_monthly = ai_code_exec(df,  \"請將日K線資料轉換成月K線\")\n",
    "df_monthly.tail()"
   ]
  },
  {
   "cell_type": "markdown",
   "metadata": {},
   "source": [
    "### <a id='toc1_2_3_'></a>[資料視覺化](#toc0_)"
   ]
  },
  {
   "cell_type": "code",
   "execution_count": 23,
   "metadata": {},
   "outputs": [
    {
     "data": {
      "text/html": [
       "<div>\n",
       "<style scoped>\n",
       "    .dataframe tbody tr th:only-of-type {\n",
       "        vertical-align: middle;\n",
       "    }\n",
       "\n",
       "    .dataframe tbody tr th {\n",
       "        vertical-align: top;\n",
       "    }\n",
       "\n",
       "    .dataframe thead th {\n",
       "        text-align: right;\n",
       "    }\n",
       "</style>\n",
       "<table border=\"1\" class=\"dataframe\">\n",
       "  <thead>\n",
       "    <tr style=\"text-align: right;\">\n",
       "      <th></th>\n",
       "      <th>index</th>\n",
       "      <th>Date</th>\n",
       "      <th>Open</th>\n",
       "      <th>High</th>\n",
       "      <th>Low</th>\n",
       "      <th>Close</th>\n",
       "      <th>Adj Close</th>\n",
       "      <th>Volume</th>\n",
       "    </tr>\n",
       "  </thead>\n",
       "  <tbody>\n",
       "    <tr>\n",
       "      <th>111</th>\n",
       "      <td>111</td>\n",
       "      <td>2024-03-14</td>\n",
       "      <td>779.0</td>\n",
       "      <td>785.0</td>\n",
       "      <td>770.0</td>\n",
       "      <td>784.0</td>\n",
       "      <td>780.355896</td>\n",
       "      <td>42010806</td>\n",
       "    </tr>\n",
       "    <tr>\n",
       "      <th>112</th>\n",
       "      <td>112</td>\n",
       "      <td>2024-03-15</td>\n",
       "      <td>771.0</td>\n",
       "      <td>777.0</td>\n",
       "      <td>753.0</td>\n",
       "      <td>753.0</td>\n",
       "      <td>749.500000</td>\n",
       "      <td>73316437</td>\n",
       "    </tr>\n",
       "    <tr>\n",
       "      <th>113</th>\n",
       "      <td>113</td>\n",
       "      <td>2024-03-18</td>\n",
       "      <td>754.0</td>\n",
       "      <td>765.0</td>\n",
       "      <td>754.0</td>\n",
       "      <td>764.0</td>\n",
       "      <td>764.000000</td>\n",
       "      <td>43589856</td>\n",
       "    </tr>\n",
       "    <tr>\n",
       "      <th>114</th>\n",
       "      <td>114</td>\n",
       "      <td>2024-03-19</td>\n",
       "      <td>758.0</td>\n",
       "      <td>765.0</td>\n",
       "      <td>755.0</td>\n",
       "      <td>762.0</td>\n",
       "      <td>762.000000</td>\n",
       "      <td>30152375</td>\n",
       "    </tr>\n",
       "    <tr>\n",
       "      <th>115</th>\n",
       "      <td>115</td>\n",
       "      <td>2024-03-20</td>\n",
       "      <td>764.0</td>\n",
       "      <td>769.0</td>\n",
       "      <td>752.0</td>\n",
       "      <td>758.0</td>\n",
       "      <td>758.000000</td>\n",
       "      <td>41280325</td>\n",
       "    </tr>\n",
       "  </tbody>\n",
       "</table>\n",
       "</div>"
      ],
      "text/plain": [
       "     index       Date   Open   High    Low  Close   Adj Close    Volume\n",
       "111    111 2024-03-14  779.0  785.0  770.0  784.0  780.355896  42010806\n",
       "112    112 2024-03-15  771.0  777.0  753.0  753.0  749.500000  73316437\n",
       "113    113 2024-03-18  754.0  765.0  754.0  764.0  764.000000  43589856\n",
       "114    114 2024-03-19  758.0  765.0  755.0  762.0  762.000000  30152375\n",
       "115    115 2024-03-20  764.0  769.0  752.0  758.0  758.000000  41280325"
      ]
     },
     "execution_count": 23,
     "metadata": {},
     "output_type": "execute_result"
    }
   ],
   "source": [
    "import matplotlib.pyplot as plt\n",
    "\n",
    "new_df = df.copy()\n",
    "new_df = new_df.reset_index()\n",
    "# 將 Date 轉換成 datetime 類別\n",
    "new_df['Date'] = pd.to_datetime(new_df['Date'])\n",
    "new_df.tail()"
   ]
  },
  {
   "cell_type": "code",
   "execution_count": 26,
   "metadata": {},
   "outputs": [
    {
     "data": {
      "text/plain": [
       "<function matplotlib.pyplot.show(close=None, block=None)>"
      ]
     },
     "execution_count": 26,
     "metadata": {},
     "output_type": "execute_result"
    },
    {
     "data": {
      "image/png": "[encoded data removed]",
      "text/plain": [
       "<Figure size 1200x600 with 1 Axes>"
      ]
     },
     "metadata": {},
     "output_type": "display_data"
    }
   ],
   "source": [
    "plt.figure(figsize=(12, 6))\n",
    "\n",
    "# 設定收盤價為要繪製的資料欄位\n",
    "plt.plot(new_df['Close'], label='Close')\n",
    "\n",
    "# 設定 x 軸的時間\n",
    "num = 10    # 設定顯示幾筆時間標籤\n",
    "date = new_df['Date'].dt.strftime('%Y-%m-%d')\n",
    "plt.xticks(date[::len(date)//num].index, date[::len(date)//num], rotation=45)\n",
    "\n",
    "# 設定圖表資訊\n",
    "plt.title(f'{stock_id}')\n",
    "plt.xlabel('Date')\n",
    "plt.ylabel('Price', rotation=0, ha='right')\n",
    "plt.legend(loc='upper left')    # 將圖例顯示於左上角\n",
    "plt.grid(True)  # 顯示網格\n",
    "plt.tight_layout()\n",
    "\n",
    "plt.show"
   ]
  },
  {
   "cell_type": "markdown",
   "metadata": {},
   "source": [
    "#### <a id='toc1_2_3_1_'></a>[加入成交量圖表](#toc0_)"
   ]
  },
  {
   "cell_type": "code",
   "execution_count": 28,
   "metadata": {},
   "outputs": [
    {
     "data": {
      "image/png": "[encoded data removed]",
      "text/plain": [
       "<Figure size 1200x800 with 2 Axes>"
      ]
     },
     "metadata": {},
     "output_type": "display_data"
    }
   ],
   "source": [
    "fig, (ax1, ax2) = plt.subplots(2, 1, \n",
    "                              figsize=(12, 8), \n",
    "                              gridspec_kw={'height_ratios':[2, 1]})\n",
    "\n",
    "# 設定 x 軸時間\n",
    "num = 10\n",
    "date = new_df[\"Date\"].dt.strftime('%Y-%m-%d')\n",
    "\n",
    "# 繪製收盤價\n",
    "ax1.plot(new_df['Close'], label='Close')\n",
    "ax1.set_title(f'{stock_id}')\n",
    "ax1.set_ylabel('Price', color='blue', rotation=0, ha='right')\n",
    "ax1.set_xticks(date[::len(date)//num].index)\n",
    "ax1.set_xticklabels(date[::len(date)//num], rotation=45)\n",
    "\n",
    "# 繪製成交量\n",
    "ax2.bar(new_df.index, new_df['Volume'], color='green')\n",
    "ax2.set_ylabel('Volume', color='green', rotation=0, ha='right')\n",
    "ax2.set_xticks([])  # 不顯示日期標籤\n",
    "\n",
    "# 讓子圖填充、對齊\n",
    "plt.tight_layout()\n",
    "\n",
    "plt.show()"
   ]
  },
  {
   "cell_type": "markdown",
   "metadata": {},
   "source": [
    "#### <a id='toc1_2_3_2_'></a>[加入技術指標](#toc0_)"
   ]
  },
  {
   "cell_type": "code",
   "execution_count": 44,
   "metadata": {},
   "outputs": [
    {
     "name": "stdout",
     "output_type": "stream",
     "text": [
      "def calculate(df):\n",
      "    df['Upper_Band'] = df['Close'].rolling(window=20).mean() + 1.5 * df['Close'].rolling(window=20).std()\n",
      "    df['Lower_Band'] = df['Close'].rolling(window=20).mean() - 1.5 * df['Close'].rolling(window=20).std()\n",
      "    \n",
      "    shortEMA = df['Close'].ewm(span=12, adjust=False).mean()\n",
      "    longEMA = df['Close'].ewm(span=26, adjust=False).mean()\n",
      "    df['MACD'] = shortEMA - longEMA\n",
      "    df['Signal_Line'] = df['MACD'].ewm(span=9, adjust=False).mean()\n",
      "    df['MACD_Histogram'] = df['MACD'] - df['Signal_Line']\n",
      "    \n",
      "    return df\n"
     ]
    },
    {
     "data": {
      "image/png": "[encoded data removed]",
      "text/plain": [
       "<Figure size 1200x800 with 3 Axes>"
      ]
     },
     "metadata": {},
     "output_type": "display_data"
    }
   ],
   "source": [
    "# 初始化\n",
    "new_df = ai_code_exec(df, \"請計算 1.5 個標準差的布林通道， 欄位以 'Upper_Band' 和 'Lower_Band' 命名。\\n\\\n",
    "                    計算 MACD, 欄位名稱用 'MACD_Histogram' 命名\")\n",
    "\n",
    "\n",
    "# 創立子圖\n",
    "fig, (ax1, ax2, ax3) = plt.subplots(3, 1, \n",
    "                                    figsize=(12, 8),\n",
    "                                    gridspec_kw={'height_ratios': [2, 1, 1]},\n",
    "                                    sharex=True)\n",
    "\n",
    "# 設定 x 軸時間\n",
    "num = 10\n",
    "date = new_df['Date'].dt.strftime('%Y-%m-%d')\n",
    "\n",
    "# 繪製收盤價\n",
    "ax1.plot(new_df['Close'], label='Close')\n",
    "# 加入布林通道\n",
    "ax1.plot(new_df['Upper_Band'], alpha=0.5)   # alpha = 透明度\n",
    "ax1.plot(new_df['Lower_Band'], alpha=0.5)\n",
    "ax1.set_title(f'{stock_id}')\n",
    "ax1.set_ylabel('Price', color='blue', rotation=0, ha='right')\n",
    "ax1.set_xticks(date[::len(date)//num].index)\n",
    "ax1.set_xticklabels(date[::len(date)//num])\n",
    "\n",
    "# 繪製交易量\n",
    "ax2.bar(new_df.index, new_df['Volume'], alpha=0.5, color='green')\n",
    "ax2.set_ylabel('Volume', color='green', rotation=0, ha='right')\n",
    "\n",
    "# 繪製技術指標\n",
    "ax3.bar(new_df.index, new_df['MACD_Histogram'], alpha=0.5, color='red')\n",
    "ax3.set_ylabel('MACD', color='red', rotation=0, ha='right')\n",
    "\n",
    "# 縮短子圖的距離\n",
    "plt.tight_layout()\n",
    "\n",
    "plt.show()"
   ]
  },
  {
   "cell_type": "markdown",
   "metadata": {},
   "source": [
    "#### <a id='toc1_2_3_3_'></a>[繪製 K 線圖](#toc0_)\n",
    "\n",
    "使用 **mplfinance** 套件\n"
   ]
  },
  {
   "cell_type": "code",
   "execution_count": 41,
   "metadata": {},
   "outputs": [
    {
     "data": {
      "image/png": "[encoded data removed]",
      "text/plain": [
       "<Figure size 800x575 with 2 Axes>"
      ]
     },
     "metadata": {},
     "output_type": "display_data"
    }
   ],
   "source": [
    "import mplfinance as mpf\n",
    "\n",
    "kplot_df = new_df.copy().set_index('Date')\n",
    "kplot_df = kplot_df['2023-11-01':'2024-03-18']\n",
    "kplot_df.tail()\n",
    "\n",
    "# 設置繪圖風格\n",
    "color = mpf.make_marketcolors(up='r', down='g', inherit=True)\n",
    "style = mpf.make_mpf_style(base_mpf_style='yahoo', marketcolors=color)\n",
    "\n",
    "mpf.plot(kplot_df, type='candle', style=style, title=f'{stock_id}')"
   ]
  },
  {
   "cell_type": "markdown",
   "metadata": {},
   "source": [
    "#### <a id='toc1_2_3_4_'></a>[繪製其餘子圖](#toc0_)"
   ]
  },
  {
   "cell_type": "code",
   "execution_count": 42,
   "metadata": {},
   "outputs": [
    {
     "data": {
      "image/png": "[encoded data removed]",
      "text/plain": [
       "<Figure size 800x575 with 6 Axes>"
      ]
     },
     "metadata": {},
     "output_type": "display_data"
    }
   ],
   "source": [
    "ap = [\n",
    "    # 上軌線\n",
    "    mpf.make_addplot(kplot_df['Upper_Band'], color='red', alpha=0.5, linestyle='--'),\n",
    "    # 下軌線\n",
    "    mpf.make_addplot(kplot_df['Lower_Band'], color='red', alpha=0.5, linestyle='--'),\n",
    "    # 成交量\n",
    "    # 設定 panel=1，代表第二個子圖\n",
    "    mpf.make_addplot(kplot_df['Volume'], panel=1, type='bar', color='g', alpha=0.5, ylabel='Volume'),\n",
    "    # MACD\n",
    "    mpf.make_addplot(kplot_df['MACD_Histogram'], panel=2, type='bar', color='r', alpha=0.5, ylabel='MACD')\n",
    "]\n",
    "\n",
    "mpf.plot(kplot_df, type='candle', addplot=ap, style=style, title=f'{stock_id}')"
   ]
  },
  {
   "cell_type": "markdown",
   "metadata": {},
   "source": [
    "#### <a id='toc1_2_3_5_'></a>[繪製互動式 K 線圖](#toc0_)"
   ]
  },
  {
   "cell_type": "code",
   "execution_count": null,
   "metadata": {},
   "outputs": [],
   "source": []
  },
  {
   "cell_type": "markdown",
   "metadata": {},
   "source": [
    "## <a id='toc1_3_'></a>[AI 股票回測技術](#toc0_)"
   ]
  },
  {
   "cell_type": "markdown",
   "metadata": {},
   "source": [
    "### 何為股票回測？\n",
    "\n",
    "簡單來說，**股票回測** 就是使用歷史資料來進行**模擬交易**\n",
    "\n",
    "- 假設我們有一個短線 SMA 穿越長線 SMA 的策略，要如何評估這個策略是否會賺錢？\n",
    "  - 建立一個**虛擬帳戶**\n",
    "  - 設定初始資金\n",
    "  - 設定每次的下單量"
   ]
  },
  {
   "cell_type": "code",
   "execution_count": 49,
   "metadata": {},
   "outputs": [
    {
     "name": "stderr",
     "output_type": "stream",
     "text": [
      "[*********************100%%**********************]  1 of 1 completed\n"
     ]
    },
    {
     "data": {
      "text/html": [
       "<div>\n",
       "<style scoped>\n",
       "    .dataframe tbody tr th:only-of-type {\n",
       "        vertical-align: middle;\n",
       "    }\n",
       "\n",
       "    .dataframe tbody tr th {\n",
       "        vertical-align: top;\n",
       "    }\n",
       "\n",
       "    .dataframe thead th {\n",
       "        text-align: right;\n",
       "    }\n",
       "</style>\n",
       "<table border=\"1\" class=\"dataframe\">\n",
       "  <thead>\n",
       "    <tr style=\"text-align: right;\">\n",
       "      <th></th>\n",
       "      <th>Open</th>\n",
       "      <th>High</th>\n",
       "      <th>Low</th>\n",
       "      <th>Close</th>\n",
       "      <th>Adj Close</th>\n",
       "      <th>Volume</th>\n",
       "      <th>ma1</th>\n",
       "      <th>ma2</th>\n",
       "    </tr>\n",
       "    <tr>\n",
       "      <th>Date</th>\n",
       "      <th></th>\n",
       "      <th></th>\n",
       "      <th></th>\n",
       "      <th></th>\n",
       "      <th></th>\n",
       "      <th></th>\n",
       "      <th></th>\n",
       "      <th></th>\n",
       "    </tr>\n",
       "  </thead>\n",
       "  <tbody>\n",
       "    <tr>\n",
       "      <th>2019-03-22</th>\n",
       "      <td>248.0</td>\n",
       "      <td>248.5</td>\n",
       "      <td>244.5</td>\n",
       "      <td>248.5</td>\n",
       "      <td>215.986206</td>\n",
       "      <td>22931467</td>\n",
       "      <td>NaN</td>\n",
       "      <td>NaN</td>\n",
       "    </tr>\n",
       "    <tr>\n",
       "      <th>2019-03-25</th>\n",
       "      <td>240.5</td>\n",
       "      <td>243.5</td>\n",
       "      <td>240.5</td>\n",
       "      <td>241.5</td>\n",
       "      <td>209.902084</td>\n",
       "      <td>19211254</td>\n",
       "      <td>NaN</td>\n",
       "      <td>NaN</td>\n",
       "    </tr>\n",
       "    <tr>\n",
       "      <th>2019-03-26</th>\n",
       "      <td>243.0</td>\n",
       "      <td>244.0</td>\n",
       "      <td>241.0</td>\n",
       "      <td>244.0</td>\n",
       "      <td>212.074951</td>\n",
       "      <td>19920170</td>\n",
       "      <td>NaN</td>\n",
       "      <td>NaN</td>\n",
       "    </tr>\n",
       "    <tr>\n",
       "      <th>2019-03-27</th>\n",
       "      <td>242.0</td>\n",
       "      <td>242.5</td>\n",
       "      <td>240.5</td>\n",
       "      <td>241.5</td>\n",
       "      <td>209.902084</td>\n",
       "      <td>22590089</td>\n",
       "      <td>NaN</td>\n",
       "      <td>NaN</td>\n",
       "    </tr>\n",
       "    <tr>\n",
       "      <th>2019-03-28</th>\n",
       "      <td>240.5</td>\n",
       "      <td>242.5</td>\n",
       "      <td>240.0</td>\n",
       "      <td>242.0</td>\n",
       "      <td>210.336655</td>\n",
       "      <td>13933054</td>\n",
       "      <td>243.5</td>\n",
       "      <td>NaN</td>\n",
       "    </tr>\n",
       "  </tbody>\n",
       "</table>\n",
       "</div>"
      ],
      "text/plain": [
       "             Open   High    Low  Close   Adj Close    Volume    ma1  ma2\n",
       "Date                                                                    \n",
       "2019-03-22  248.0  248.5  244.5  248.5  215.986206  22931467    NaN  NaN\n",
       "2019-03-25  240.5  243.5  240.5  241.5  209.902084  19211254    NaN  NaN\n",
       "2019-03-26  243.0  244.0  241.0  244.0  212.074951  19920170    NaN  NaN\n",
       "2019-03-27  242.0  242.5  240.5  241.5  209.902084  22590089    NaN  NaN\n",
       "2019-03-28  240.5  242.5  240.0  242.0  210.336655  13933054  243.5  NaN"
      ]
     },
     "execution_count": 49,
     "metadata": {},
     "output_type": "execute_result"
    }
   ],
   "source": [
    "from openai import OpenAI, OpenAIError\n",
    "import yfinance as yf\n",
    "import pandas as pd\n",
    "import datetime as dt\n",
    "from backtesting import Backtest, Strategy\n",
    "from backtesting.lib import crossover\n",
    "\n",
    "stock_id = \"2330.tw\"\n",
    "\n",
    "df = yf.download(stock_id, period='5y')\n",
    "# 計算指標\n",
    "df['ma1'] = df['Close'].rolling(window=5).mean()\n",
    "df['ma2'] = df['Close'].rolling(window=10).mean()\n",
    "df.head()"
   ]
  },
  {
   "cell_type": "code",
   "execution_count": 52,
   "metadata": {},
   "outputs": [
    {
     "name": "stdout",
     "output_type": "stream",
     "text": [
      "Start                     2019-03-22 00:00:00\n",
      "End                       2024-03-22 00:00:00\n",
      "Duration                   1827 days 00:00:00\n",
      "Exposure Time [%]                   74.938373\n",
      "Equity Final [$]                   999913.328\n",
      "Equity Peak [$]                   1000485.818\n",
      "Return [%]                          -0.008667\n",
      "Buy & Hold Return [%]              215.895372\n",
      "Return (Ann.) [%]                   -0.001795\n",
      "Volatility (Ann.) [%]                0.019686\n",
      "Sharpe Ratio                              0.0\n",
      "Sortino Ratio                             0.0\n",
      "Calmar Ratio                              0.0\n",
      "Max. Drawdown [%]                   -0.057221\n",
      "Avg. Drawdown [%]                   -0.006565\n",
      "Max. Drawdown Duration      514 days 00:00:00\n",
      "Avg. Drawdown Duration       77 days 00:00:00\n",
      "# Trades                                   64\n",
      "Win Rate [%]                          42.1875\n",
      "Best Trade [%]                      35.820355\n",
      "Worst Trade [%]                    -20.240412\n",
      "Avg. Trade [%]                      -0.326695\n",
      "Max. Trade Duration         115 days 00:00:00\n",
      "Avg. Trade Duration          34 days 00:00:00\n",
      "Profit Factor                        1.010619\n",
      "Expectancy [%]                       0.031046\n",
      "SQN                                 -0.239044\n",
      "_strategy                       CrossStrategy\n",
      "_equity_curve                             ...\n",
      "_trades                       Size  EntryB...\n",
      "dtype: object\n"
     ]
    },
    {
     "data": {
      "text/html": [
       "<div>\n",
       "<style scoped>\n",
       "    .dataframe tbody tr th:only-of-type {\n",
       "        vertical-align: middle;\n",
       "    }\n",
       "\n",
       "    .dataframe tbody tr th {\n",
       "        vertical-align: top;\n",
       "    }\n",
       "\n",
       "    .dataframe thead th {\n",
       "        text-align: right;\n",
       "    }\n",
       "</style>\n",
       "<table border=\"1\" class=\"dataframe\">\n",
       "  <thead>\n",
       "    <tr style=\"text-align: right;\">\n",
       "      <th></th>\n",
       "      <th>Size</th>\n",
       "      <th>EntryBar</th>\n",
       "      <th>ExitBar</th>\n",
       "      <th>EntryPrice</th>\n",
       "      <th>ExitPrice</th>\n",
       "      <th>PnL</th>\n",
       "      <th>ReturnPct</th>\n",
       "      <th>EntryTime</th>\n",
       "      <th>ExitTime</th>\n",
       "      <th>Duration</th>\n",
       "    </tr>\n",
       "  </thead>\n",
       "  <tbody>\n",
       "    <tr>\n",
       "      <th>0</th>\n",
       "      <td>-1</td>\n",
       "      <td>26</td>\n",
       "      <td>50</td>\n",
       "      <td>260.454</td>\n",
       "      <td>238.0</td>\n",
       "      <td>22.454</td>\n",
       "      <td>0.086211</td>\n",
       "      <td>2019-05-02</td>\n",
       "      <td>2019-06-05</td>\n",
       "      <td>34 days</td>\n",
       "    </tr>\n",
       "    <tr>\n",
       "      <th>1</th>\n",
       "      <td>-1</td>\n",
       "      <td>60</td>\n",
       "      <td>63</td>\n",
       "      <td>241.032</td>\n",
       "      <td>241.0</td>\n",
       "      <td>0.032</td>\n",
       "      <td>0.000133</td>\n",
       "      <td>2019-06-20</td>\n",
       "      <td>2019-06-25</td>\n",
       "      <td>5 days</td>\n",
       "    </tr>\n",
       "    <tr>\n",
       "      <th>2</th>\n",
       "      <td>-1</td>\n",
       "      <td>67</td>\n",
       "      <td>70</td>\n",
       "      <td>244.518</td>\n",
       "      <td>244.5</td>\n",
       "      <td>0.018</td>\n",
       "      <td>0.000074</td>\n",
       "      <td>2019-07-01</td>\n",
       "      <td>2019-07-04</td>\n",
       "      <td>3 days</td>\n",
       "    </tr>\n",
       "    <tr>\n",
       "      <th>3</th>\n",
       "      <td>-1</td>\n",
       "      <td>75</td>\n",
       "      <td>76</td>\n",
       "      <td>249.000</td>\n",
       "      <td>252.0</td>\n",
       "      <td>-3.000</td>\n",
       "      <td>-0.012048</td>\n",
       "      <td>2019-07-11</td>\n",
       "      <td>2019-07-12</td>\n",
       "      <td>1 days</td>\n",
       "    </tr>\n",
       "    <tr>\n",
       "      <th>4</th>\n",
       "      <td>-1</td>\n",
       "      <td>91</td>\n",
       "      <td>103</td>\n",
       "      <td>250.992</td>\n",
       "      <td>254.5</td>\n",
       "      <td>-3.508</td>\n",
       "      <td>-0.013977</td>\n",
       "      <td>2019-08-02</td>\n",
       "      <td>2019-08-21</td>\n",
       "      <td>19 days</td>\n",
       "    </tr>\n",
       "  </tbody>\n",
       "</table>\n",
       "</div>"
      ],
      "text/plain": [
       "   Size  EntryBar  ExitBar  EntryPrice  ExitPrice     PnL  ReturnPct  \\\n",
       "0    -1        26       50     260.454      238.0  22.454   0.086211   \n",
       "1    -1        60       63     241.032      241.0   0.032   0.000133   \n",
       "2    -1        67       70     244.518      244.5   0.018   0.000074   \n",
       "3    -1        75       76     249.000      252.0  -3.000  -0.012048   \n",
       "4    -1        91      103     250.992      254.5  -3.508  -0.013977   \n",
       "\n",
       "   EntryTime   ExitTime Duration  \n",
       "0 2019-05-02 2019-06-05  34 days  \n",
       "1 2019-06-20 2019-06-25   5 days  \n",
       "2 2019-07-01 2019-07-04   3 days  \n",
       "3 2019-07-11 2019-07-12   1 days  \n",
       "4 2019-08-02 2019-08-21  19 days  "
      ]
     },
     "execution_count": 52,
     "metadata": {},
     "output_type": "execute_result"
    }
   ],
   "source": [
    "class CrossStrategy(Strategy):\n",
    "    def init(self):\n",
    "        super().init()\n",
    "\n",
    "    def next(self):\n",
    "        if crossover(self.data.ma1, self.data.ma2):\n",
    "            self.buy(size=1)\n",
    "        elif crossover(self.data.ma2, self.data.ma1):\n",
    "            self.sell(size=1)\n",
    "    \n",
    "backtest = Backtest(df,\n",
    "                    CrossStrategy,\n",
    "                    cash=1000000,\n",
    "                    commission=0.004,       # 手續費\n",
    "                    margin=1,               # 槓桿比例\n",
    "                    hedging=False,          # 當沖交易\n",
    "                    trade_on_close=False,   # 依收盤價買賣\n",
    "                    exclusive_orders=False\n",
    "                    )\n",
    "stats = backtest.run()\n",
    "\n",
    "print(stats)\n",
    "\n",
    "# 查看詳細的交易紀錄\n",
    "stats[\"_trades\"].head()"
   ]
  },
  {
   "cell_type": "markdown",
   "metadata": {},
   "source": [
    "#### 繪製回測圖表"
   ]
  },
  {
   "cell_type": "code",
   "execution_count": 51,
   "metadata": {},
   "outputs": [
    {
     "name": "stderr",
     "output_type": "stream",
     "text": [
      "/Users/yusung/Desktop/Computer_Science/AI_Project/ai_project/lib/python3.11/site-packages/backtesting/_plotting.py:250: UserWarning: DatetimeFormatter scales now only accept a single format. Using the first provided: '%d %b'\n",
      "  formatter=DatetimeTickFormatter(days=['%d %b', '%a %d'],\n",
      "/Users/yusung/Desktop/Computer_Science/AI_Project/ai_project/lib/python3.11/site-packages/backtesting/_plotting.py:250: UserWarning: DatetimeFormatter scales now only accept a single format. Using the first provided: '%m/%Y'\n",
      "  formatter=DatetimeTickFormatter(days=['%d %b', '%a %d'],\n",
      "/Users/yusung/Desktop/Computer_Science/AI_Project/ai_project/lib/python3.11/site-packages/backtesting/_plotting.py:456: FutureWarning: 'M' is deprecated and will be removed in a future version, please use 'ME' instead.\n",
      "  .resample(resample_rule, label='left')\n",
      "/Users/yusung/Desktop/Computer_Science/AI_Project/ai_project/lib/python3.11/site-packages/backtesting/_plotting.py:659: UserWarning: found multiple competing values for 'toolbar.active_drag' property; using the latest value\n",
      "  fig = gridplot(\n",
      "/Users/yusung/Desktop/Computer_Science/AI_Project/ai_project/lib/python3.11/site-packages/backtesting/_plotting.py:659: UserWarning: found multiple competing values for 'toolbar.active_scroll' property; using the latest value\n",
      "  fig = gridplot(\n"
     ]
    },
    {
     "data": {
      "text/html": [
       "<div style=\"display: table;\"><div style=\"display: table-row;\"><div style=\"display: table-cell;\"><b title=\"bokeh.models.plots.GridPlot\">GridPlot</b>(</div><div style=\"display: table-cell;\">id&nbsp;=&nbsp;'p1305', <span id=\"p1334\" style=\"cursor: pointer;\">&hellip;)</span></div></div><div class=\"p1333\" style=\"display: none;\"><div style=\"display: table-cell;\"></div><div style=\"display: table-cell;\">align&nbsp;=&nbsp;'auto',</div></div><div class=\"p1333\" style=\"display: none;\"><div style=\"display: table-cell;\"></div><div style=\"display: table-cell;\">aspect_ratio&nbsp;=&nbsp;None,</div></div><div class=\"p1333\" style=\"display: none;\"><div style=\"display: table-cell;\"></div><div style=\"display: table-cell;\">children&nbsp;=&nbsp;[(figure(id='p1046', ...), 0, 0), (figure(id='p1143', ...), 1, 0), (figure(id='p1002', ...), 2, 0), (figure(id='p1198', ...), 3, 0)],</div></div><div class=\"p1333\" style=\"display: none;\"><div style=\"display: table-cell;\"></div><div style=\"display: table-cell;\">cols&nbsp;=&nbsp;None,</div></div><div class=\"p1333\" style=\"display: none;\"><div style=\"display: table-cell;\"></div><div style=\"display: table-cell;\">context_menu&nbsp;=&nbsp;None,</div></div><div class=\"p1333\" style=\"display: none;\"><div style=\"display: table-cell;\"></div><div style=\"display: table-cell;\">css_classes&nbsp;=&nbsp;[],</div></div><div class=\"p1333\" style=\"display: none;\"><div style=\"display: table-cell;\"></div><div style=\"display: table-cell;\">css_variables&nbsp;=&nbsp;{},</div></div><div class=\"p1333\" style=\"display: none;\"><div style=\"display: table-cell;\"></div><div style=\"display: table-cell;\">disabled&nbsp;=&nbsp;False,</div></div><div class=\"p1333\" style=\"display: none;\"><div style=\"display: table-cell;\"></div><div style=\"display: table-cell;\">elements&nbsp;=&nbsp;[],</div></div><div class=\"p1333\" style=\"display: none;\"><div style=\"display: table-cell;\"></div><div style=\"display: table-cell;\">flow_mode&nbsp;=&nbsp;'block',</div></div><div class=\"p1333\" style=\"display: none;\"><div style=\"display: table-cell;\"></div><div style=\"display: table-cell;\">height&nbsp;=&nbsp;None,</div></div><div class=\"p1333\" style=\"display: none;\"><div style=\"display: table-cell;\"></div><div style=\"display: table-cell;\">height_policy&nbsp;=&nbsp;'auto',</div></div><div class=\"p1333\" style=\"display: none;\"><div style=\"display: table-cell;\"></div><div style=\"display: table-cell;\">js_event_callbacks&nbsp;=&nbsp;{},</div></div><div class=\"p1333\" style=\"display: none;\"><div style=\"display: table-cell;\"></div><div style=\"display: table-cell;\">js_property_callbacks&nbsp;=&nbsp;{},</div></div><div class=\"p1333\" style=\"display: none;\"><div style=\"display: table-cell;\"></div><div style=\"display: table-cell;\">margin&nbsp;=&nbsp;None,</div></div><div class=\"p1333\" style=\"display: none;\"><div style=\"display: table-cell;\"></div><div style=\"display: table-cell;\">max_height&nbsp;=&nbsp;None,</div></div><div class=\"p1333\" style=\"display: none;\"><div style=\"display: table-cell;\"></div><div style=\"display: table-cell;\">max_width&nbsp;=&nbsp;None,</div></div><div class=\"p1333\" style=\"display: none;\"><div style=\"display: table-cell;\"></div><div style=\"display: table-cell;\">min_height&nbsp;=&nbsp;None,</div></div><div class=\"p1333\" style=\"display: none;\"><div style=\"display: table-cell;\"></div><div style=\"display: table-cell;\">min_width&nbsp;=&nbsp;None,</div></div><div class=\"p1333\" style=\"display: none;\"><div style=\"display: table-cell;\"></div><div style=\"display: table-cell;\">name&nbsp;=&nbsp;None,</div></div><div class=\"p1333\" style=\"display: none;\"><div style=\"display: table-cell;\"></div><div style=\"display: table-cell;\">resizable&nbsp;=&nbsp;False,</div></div><div class=\"p1333\" style=\"display: none;\"><div style=\"display: table-cell;\"></div><div style=\"display: table-cell;\">rows&nbsp;=&nbsp;None,</div></div><div class=\"p1333\" style=\"display: none;\"><div style=\"display: table-cell;\"></div><div style=\"display: table-cell;\">sizing_mode&nbsp;=&nbsp;'stretch_width',</div></div><div class=\"p1333\" style=\"display: none;\"><div style=\"display: table-cell;\"></div><div style=\"display: table-cell;\">spacing&nbsp;=&nbsp;0,</div></div><div class=\"p1333\" style=\"display: none;\"><div style=\"display: table-cell;\"></div><div style=\"display: table-cell;\">styles&nbsp;=&nbsp;{},</div></div><div class=\"p1333\" style=\"display: none;\"><div style=\"display: table-cell;\"></div><div style=\"display: table-cell;\">stylesheets&nbsp;=&nbsp;[],</div></div><div class=\"p1333\" style=\"display: none;\"><div style=\"display: table-cell;\"></div><div style=\"display: table-cell;\">subscribed_events&nbsp;=&nbsp;PropertyValueSet(),</div></div><div class=\"p1333\" style=\"display: none;\"><div style=\"display: table-cell;\"></div><div style=\"display: table-cell;\">syncable&nbsp;=&nbsp;True,</div></div><div class=\"p1333\" style=\"display: none;\"><div style=\"display: table-cell;\"></div><div style=\"display: table-cell;\">tags&nbsp;=&nbsp;[],</div></div><div class=\"p1333\" style=\"display: none;\"><div style=\"display: table-cell;\"></div><div style=\"display: table-cell;\">toolbar&nbsp;=&nbsp;Toolbar(id='p1304', ...),</div></div><div class=\"p1333\" style=\"display: none;\"><div style=\"display: table-cell;\"></div><div style=\"display: table-cell;\">toolbar_location&nbsp;=&nbsp;'right',</div></div><div class=\"p1333\" style=\"display: none;\"><div style=\"display: table-cell;\"></div><div style=\"display: table-cell;\">visible&nbsp;=&nbsp;True,</div></div><div class=\"p1333\" style=\"display: none;\"><div style=\"display: table-cell;\"></div><div style=\"display: table-cell;\">width&nbsp;=&nbsp;None,</div></div><div class=\"p1333\" style=\"display: none;\"><div style=\"display: table-cell;\"></div><div style=\"display: table-cell;\">width_policy&nbsp;=&nbsp;'auto')</div></div></div>\n",
       "<script>\n",
       "(function() {\n",
       "  let expanded = false;\n",
       "  const ellipsis = document.getElementById(\"p1334\");\n",
       "  ellipsis.addEventListener(\"click\", function() {\n",
       "    const rows = document.getElementsByClassName(\"p1333\");\n",
       "    for (let i = 0; i < rows.length; i++) {\n",
       "      const el = rows[i];\n",
       "      el.style.display = expanded ? \"none\" : \"table-row\";\n",
       "    }\n",
       "    ellipsis.innerHTML = expanded ? \"&hellip;)\" : \"&lsaquo;&lsaquo;&lsaquo;\";\n",
       "    expanded = !expanded;\n",
       "  });\n",
       "})();\n",
       "</script>\n"
      ],
      "text/plain": [
       "GridPlot(id='p1305', ...)"
      ]
     },
     "execution_count": 51,
     "metadata": {},
     "output_type": "execute_result"
    }
   ],
   "source": [
    "backtest.plot(plot_equity=True,      # 資金變化圖\n",
    "              plot_return=False,     # 報酬率變化圖\n",
    "              plot_pl=True,          # 損益圖表\n",
    "              plot_volume=True,      # 交易量\n",
    "              plot_drawdown=False,   # 最大損失圖\n",
    "              superimpose=True       # 顯示月K線\n",
    "              )"
   ]
  },
  {
   "cell_type": "markdown",
   "metadata": {},
   "source": [
    "#### 加入停利、停損策略\n",
    "\n",
    "- **停損點**：先設置好一個股票下跌時的價格水位，當股票觸碰到該價格時，就賣出股票，進而避免損失擴大。\n",
    "- **停利點**：先設置好一個股票上漲時的價格水位，當股票觸碰到該價格時，就賣出股票，進而鎖定利潤，避免市場反轉帶來的風險"
   ]
  },
  {
   "cell_type": "code",
   "execution_count": 56,
   "metadata": {},
   "outputs": [
    {
     "name": "stdout",
     "output_type": "stream",
     "text": [
      "Start                     2019-03-22 00:00:00\n",
      "End                       2024-03-22 00:00:00\n",
      "Duration                   1827 days 00:00:00\n",
      "Exposure Time [%]                   52.999178\n",
      "Equity Final [$]                   999933.118\n",
      "Equity Peak [$]                    1000067.09\n",
      "Return [%]                          -0.006688\n",
      "Buy & Hold Return [%]              215.895372\n",
      "Return (Ann.) [%]                   -0.001385\n",
      "Volatility (Ann.) [%]                0.008706\n",
      "Sharpe Ratio                              0.0\n",
      "Sortino Ratio                             0.0\n",
      "Calmar Ratio                              0.0\n",
      "Max. Drawdown [%]                   -0.036862\n",
      "Avg. Drawdown [%]                   -0.005559\n",
      "Max. Drawdown Duration     1279 days 00:00:00\n",
      "Avg. Drawdown Duration      158 days 00:00:00\n",
      "# Trades                                   71\n",
      "Win Rate [%]                        33.802817\n",
      "Best Trade [%]                      14.218451\n",
      "Worst Trade [%]                    -12.260064\n",
      "Avg. Trade [%]                      -0.018652\n",
      "Max. Trade Duration          55 days 00:00:00\n",
      "Avg. Trade Duration          13 days 00:00:00\n",
      "Profit Factor                        1.062996\n",
      "Expectancy [%]                       0.111937\n",
      "SQN                                 -0.285514\n",
      "_strategy                       CrossStrategy\n",
      "_equity_curve                             ...\n",
      "_trades                       Size  EntryB...\n",
      "dtype: object\n"
     ]
    }
   ],
   "source": [
    "class CrossStrategy(Strategy):\n",
    "    def init(self):\n",
    "        super().init()\n",
    "\n",
    "    def next(self):\n",
    "        if crossover(self.data.ma1, self.data.ma2):\n",
    "            self.buy(size=1,\n",
    "                     sl=self.data.Close[-1] * 0.90,     # 停損價格\n",
    "                     tp=self.data.Close[-1] * 1.10      # 停利價格\n",
    "                     )\n",
    "        elif crossover(self.data.ma2, self.data.ma1):\n",
    "            self.sell(size=1,\n",
    "                      sl=self.data.Close[-1] * 1.10,    # 停損價格\n",
    "                      tp=self.data.Close[-1] * 0.90     # 停利價格\n",
    "                      )\n",
    "            \n",
    "backtest = Backtest(df,\n",
    "                    CrossStrategy,\n",
    "                    cash=1000000,\n",
    "                    commission=0.004,       # 手續費\n",
    "                    margin=1,               # 槓桿比例\n",
    "                    hedging=False,          # 當沖交易\n",
    "                    trade_on_close=False,   # 依收盤價買賣\n",
    "                    exclusive_orders=False\n",
    "                    )\n",
    "stats = backtest.run()\n",
    "print(stats)"
   ]
  }
 ],
 "metadata": {
  "kernelspec": {
   "display_name": "ai_project",
   "language": "python",
   "name": "python3"
  },
  "language_info": {
   "codemirror_mode": {
    "name": "ipython",
    "version": 3
   },
   "file_extension": ".py",
   "mimetype": "text/x-python",
   "name": "python",
   "nbconvert_exporter": "python",
   "pygments_lexer": "ipython3",
   "version": "3.11.6"
  },
  "orig_nbformat": 4
 },
 "nbformat": 4,
 "nbformat_minor": 2
}
